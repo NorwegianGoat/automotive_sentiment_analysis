{
  "cells": [
    {
      "cell_type": "markdown",
      "metadata": {
        "id": "fzuf3cVHi6TS"
      },
      "source": [
        "# Text Mining Project Work (Team 3)\n",
        "\n",
        "**Text Classification and Sentiment Analysis**\n",
        "\n",
        "- Godowicz Pietro\n",
        "- Hofmockel Oliver\n",
        "- Malavita Daniela\n",
        "- Mioli Riccardo\n",
        "\n",
        "**Bologna Business School** - Alma Mater Studiorum Università di Bologna"
      ]
    },
    {
      "cell_type": "markdown",
      "metadata": {
        "id": "9APLha11i6TX"
      },
      "source": [
        "## Setup\n",
        "\n",
        "The following cell contains some necessary imports"
      ]
    },
    {
      "cell_type": "code",
      "execution_count": null,
      "metadata": {
        "colab": {
          "base_uri": "https://localhost:8080/"
        },
        "id": "sQSnHTwOi6TZ",
        "outputId": "cb171a92-7814-4341-baa4-b43e7e41686e"
      },
      "outputs": [
        {
          "name": "stdout",
          "output_type": "stream",
          "text": [
            "Requirement already satisfied: keras-tuner in /usr/local/lib/python3.10/dist-packages (1.3.5)\n",
            "Requirement already satisfied: packaging in /usr/local/lib/python3.10/dist-packages (from keras-tuner) (23.1)\n",
            "Requirement already satisfied: requests in /usr/local/lib/python3.10/dist-packages (from keras-tuner) (2.27.1)\n",
            "Requirement already satisfied: kt-legacy in /usr/local/lib/python3.10/dist-packages (from keras-tuner) (1.0.5)\n",
            "Requirement already satisfied: urllib3<1.27,>=1.21.1 in /usr/local/lib/python3.10/dist-packages (from requests->keras-tuner) (1.26.16)\n",
            "Requirement already satisfied: certifi>=2017.4.17 in /usr/local/lib/python3.10/dist-packages (from requests->keras-tuner) (2023.5.7)\n",
            "Requirement already satisfied: charset-normalizer~=2.0.0 in /usr/local/lib/python3.10/dist-packages (from requests->keras-tuner) (2.0.12)\n",
            "Requirement already satisfied: idna<4,>=2.5 in /usr/local/lib/python3.10/dist-packages (from requests->keras-tuner) (3.4)\n"
          ]
        }
      ],
      "source": [
        "import numpy as np\n",
        "import pandas as pd\n",
        "from scipy.sparse import csr_matrix\n",
        "import gzip\n",
        "import json\n",
        "import nltk\n",
        "from sklearn.model_selection import train_test_split\n",
        "from sklearn.feature_extraction.text import TfidfVectorizer\n",
        "from sklearn.naive_bayes import MultinomialNB\n",
        "from imblearn.under_sampling import RandomUnderSampler\n",
        "from sklearn.metrics import confusion_matrix, ConfusionMatrixDisplay, classification_report\n",
        "import os\n",
        "from urllib.request import urlretrieve\n",
        "from statsmodels.stats.contingency_tables import mcnemar\n",
        "import matplotlib.pyplot as plt\n",
        "import tensorflow as tf\n",
        "from tensorflow.keras import layers\n",
        "from tensorflow import keras\n",
        "!pip install keras-tuner\n",
        "import keras_tuner\n",
        "from sklearn.model_selection import GridSearchCV"
      ]
    },
    {
      "cell_type": "markdown",
      "metadata": {
        "id": "5dIq4xWzi6Th"
      },
      "source": [
        "Run the following to download the necessary files"
      ]
    },
    {
      "cell_type": "code",
      "execution_count": null,
      "metadata": {
        "id": "GEUzfMXAi6Ti"
      },
      "outputs": [],
      "source": [
        "def download(file, url):\n",
        "    if not os.path.exists(file):\n",
        "        urlretrieve(url, file)"
      ]
    },
    {
      "cell_type": "code",
      "execution_count": null,
      "metadata": {
        "id": "Rw7H0NU2z9dw"
      },
      "outputs": [],
      "source": [
        "download(\"Automotive_5.json.gz\", \"https://www.dropbox.com/s/vfpxgpoii7lpy4x/Automotive_5.json.gz?dl=1\")"
      ]
    },
    {
      "cell_type": "code",
      "execution_count": null,
      "metadata": {
        "colab": {
          "base_uri": "https://localhost:8080/"
        },
        "id": "T94vizGRi6Tq",
        "outputId": "bc77c195-455d-4d88-d9b9-be7bc37a92ad"
      },
      "outputs": [
        {
          "name": "stderr",
          "output_type": "stream",
          "text": [
            "[nltk_data] Downloading package punkt to /root/nltk_data...\n",
            "[nltk_data]   Package punkt is already up-to-date!\n"
          ]
        },
        {
          "data": {
            "text/plain": [
              "True"
            ]
          },
          "execution_count": 29,
          "metadata": {},
          "output_type": "execute_result"
        }
      ],
      "source": [
        "nltk.download(\"punkt\")"
      ]
    },
    {
      "cell_type": "markdown",
      "metadata": {
        "id": "HefuXgg9i6Tv"
      },
      "source": [
        "## Exercises\n",
        "\n",
        "1) We provide in the `Automotive_5.json.gz` file a dataset composed by several reviews posted on Amazon.com about Automotive products. That file is a gzip compressed one so you have to open it using a gzip decompression library.\n",
        "Each review is labeled with a score between 1 and 5 stars (represented by the ```overall``` feature).\n",
        "\n",
        "The text of each review is represented by the ```reviewText``` feature which is going to be our input data along with the ```overall``` one.\n",
        "\n",
        "Load the first 300000 reviews in the dataset putting it in a new Pandas dataframe. The data is stored as JSON file so you will have to use a Python package to load json data into some variable."
      ]
    },
    {
      "cell_type": "code",
      "execution_count": null,
      "metadata": {
        "id": "c1pueAs_96Pi"
      },
      "outputs": [],
      "source": [
        "# Loading and decompression of gzip, and requesting only the first 300,000 reivews in the dataset\n",
        "df = pd.read_json(\"Automotive_5.json.gz\", compression=\"gzip\", lines=True)\n",
        "df = df.iloc[:300000,:]"
      ]
    },
    {
      "cell_type": "markdown",
      "metadata": {
        "id": "YejpY-z8mMEf"
      },
      "source": [
        "2) Print the dataset rows number and visualize the first 5 rows."
      ]
    },
    {
      "cell_type": "code",
      "execution_count": null,
      "metadata": {
        "colab": {
          "base_uri": "https://localhost:8080/",
          "height": 206
        },
        "id": "evwfYgN1I4IK",
        "outputId": "12da49e6-9b3f-4e0b-984d-d62e78b5b528"
      },
      "outputs": [
        {
          "data": {
            "text/html": [
              "\n",
              "  <div id=\"df-fc50a77c-58d4-4801-a042-a587964d767f\">\n",
              "    <div class=\"colab-df-container\">\n",
              "      <div>\n",
              "<style scoped>\n",
              "    .dataframe tbody tr th:only-of-type {\n",
              "        vertical-align: middle;\n",
              "    }\n",
              "\n",
              "    .dataframe tbody tr th {\n",
              "        vertical-align: top;\n",
              "    }\n",
              "\n",
              "    .dataframe thead th {\n",
              "        text-align: right;\n",
              "    }\n",
              "</style>\n",
              "<table border=\"1\" class=\"dataframe\">\n",
              "  <thead>\n",
              "    <tr style=\"text-align: right;\">\n",
              "      <th></th>\n",
              "      <th>overall</th>\n",
              "      <th>verified</th>\n",
              "      <th>reviewTime</th>\n",
              "      <th>reviewerID</th>\n",
              "      <th>asin</th>\n",
              "      <th>style</th>\n",
              "      <th>reviewerName</th>\n",
              "      <th>reviewText</th>\n",
              "      <th>summary</th>\n",
              "      <th>unixReviewTime</th>\n",
              "      <th>vote</th>\n",
              "      <th>image</th>\n",
              "    </tr>\n",
              "  </thead>\n",
              "  <tbody>\n",
              "    <tr>\n",
              "      <th>0</th>\n",
              "      <td>4</td>\n",
              "      <td>False</td>\n",
              "      <td>05 1, 2015</td>\n",
              "      <td>A8WEXFRWX1ZHH</td>\n",
              "      <td>0209688726</td>\n",
              "      <td>{'Color:': ' AC'}</td>\n",
              "      <td>Goldengate</td>\n",
              "      <td>After I wrote the below review, the manufactur...</td>\n",
              "      <td>Works well if you place phone in horizontally ...</td>\n",
              "      <td>1430438400</td>\n",
              "      <td>NaN</td>\n",
              "      <td>NaN</td>\n",
              "    </tr>\n",
              "    <tr>\n",
              "      <th>1</th>\n",
              "      <td>1</td>\n",
              "      <td>True</td>\n",
              "      <td>04 19, 2018</td>\n",
              "      <td>ABCA1A8E4DGV1</td>\n",
              "      <td>0209688726</td>\n",
              "      <td>{'Color:': ' Blue'}</td>\n",
              "      <td>noe</td>\n",
              "      <td>It sucks barely picks up anything definitely n...</td>\n",
              "      <td>sucks</td>\n",
              "      <td>1524096000</td>\n",
              "      <td>NaN</td>\n",
              "      <td>NaN</td>\n",
              "    </tr>\n",
              "    <tr>\n",
              "      <th>2</th>\n",
              "      <td>1</td>\n",
              "      <td>True</td>\n",
              "      <td>04 16, 2018</td>\n",
              "      <td>A1NX8HM89FRQ32</td>\n",
              "      <td>0209688726</td>\n",
              "      <td>{'Color:': ' Black'}</td>\n",
              "      <td>Eduard</td>\n",
              "      <td>Well to write a short one, it blew 2 fuses of ...</td>\n",
              "      <td>Defective</td>\n",
              "      <td>1523836800</td>\n",
              "      <td>NaN</td>\n",
              "      <td>NaN</td>\n",
              "    </tr>\n",
              "    <tr>\n",
              "      <th>3</th>\n",
              "      <td>3</td>\n",
              "      <td>True</td>\n",
              "      <td>04 13, 2018</td>\n",
              "      <td>A1X77G023NY0KY</td>\n",
              "      <td>0209688726</td>\n",
              "      <td>{'Color:': ' CA'}</td>\n",
              "      <td>Lauren</td>\n",
              "      <td>I have absolutely no memory of buying this but...</td>\n",
              "      <td>Looks cool! Probably works</td>\n",
              "      <td>1523577600</td>\n",
              "      <td>NaN</td>\n",
              "      <td>NaN</td>\n",
              "    </tr>\n",
              "    <tr>\n",
              "      <th>4</th>\n",
              "      <td>5</td>\n",
              "      <td>True</td>\n",
              "      <td>04 8, 2018</td>\n",
              "      <td>A3GK37JO2MGW6Q</td>\n",
              "      <td>0209688726</td>\n",
              "      <td>{'Color:': ' Black'}</td>\n",
              "      <td>danny</td>\n",
              "      <td>it ok it does it job</td>\n",
              "      <td>Five Stars</td>\n",
              "      <td>1523145600</td>\n",
              "      <td>NaN</td>\n",
              "      <td>NaN</td>\n",
              "    </tr>\n",
              "  </tbody>\n",
              "</table>\n",
              "</div>\n",
              "      <button class=\"colab-df-convert\" onclick=\"convertToInteractive('df-fc50a77c-58d4-4801-a042-a587964d767f')\"\n",
              "              title=\"Convert this dataframe to an interactive table.\"\n",
              "              style=\"display:none;\">\n",
              "        \n",
              "  <svg xmlns=\"http://www.w3.org/2000/svg\" height=\"24px\"viewBox=\"0 0 24 24\"\n",
              "       width=\"24px\">\n",
              "    <path d=\"M0 0h24v24H0V0z\" fill=\"none\"/>\n",
              "    <path d=\"M18.56 5.44l.94 2.06.94-2.06 2.06-.94-2.06-.94-.94-2.06-.94 2.06-2.06.94zm-11 1L8.5 8.5l.94-2.06 2.06-.94-2.06-.94L8.5 2.5l-.94 2.06-2.06.94zm10 10l.94 2.06.94-2.06 2.06-.94-2.06-.94-.94-2.06-.94 2.06-2.06.94z\"/><path d=\"M17.41 7.96l-1.37-1.37c-.4-.4-.92-.59-1.43-.59-.52 0-1.04.2-1.43.59L10.3 9.45l-7.72 7.72c-.78.78-.78 2.05 0 2.83L4 21.41c.39.39.9.59 1.41.59.51 0 1.02-.2 1.41-.59l7.78-7.78 2.81-2.81c.8-.78.8-2.07 0-2.86zM5.41 20L4 18.59l7.72-7.72 1.47 1.35L5.41 20z\"/>\n",
              "  </svg>\n",
              "      </button>\n",
              "      \n",
              "  <style>\n",
              "    .colab-df-container {\n",
              "      display:flex;\n",
              "      flex-wrap:wrap;\n",
              "      gap: 12px;\n",
              "    }\n",
              "\n",
              "    .colab-df-convert {\n",
              "      background-color: #E8F0FE;\n",
              "      border: none;\n",
              "      border-radius: 50%;\n",
              "      cursor: pointer;\n",
              "      display: none;\n",
              "      fill: #1967D2;\n",
              "      height: 32px;\n",
              "      padding: 0 0 0 0;\n",
              "      width: 32px;\n",
              "    }\n",
              "\n",
              "    .colab-df-convert:hover {\n",
              "      background-color: #E2EBFA;\n",
              "      box-shadow: 0px 1px 2px rgba(60, 64, 67, 0.3), 0px 1px 3px 1px rgba(60, 64, 67, 0.15);\n",
              "      fill: #174EA6;\n",
              "    }\n",
              "\n",
              "    [theme=dark] .colab-df-convert {\n",
              "      background-color: #3B4455;\n",
              "      fill: #D2E3FC;\n",
              "    }\n",
              "\n",
              "    [theme=dark] .colab-df-convert:hover {\n",
              "      background-color: #434B5C;\n",
              "      box-shadow: 0px 1px 3px 1px rgba(0, 0, 0, 0.15);\n",
              "      filter: drop-shadow(0px 1px 2px rgba(0, 0, 0, 0.3));\n",
              "      fill: #FFFFFF;\n",
              "    }\n",
              "  </style>\n",
              "\n",
              "      <script>\n",
              "        const buttonEl =\n",
              "          document.querySelector('#df-fc50a77c-58d4-4801-a042-a587964d767f button.colab-df-convert');\n",
              "        buttonEl.style.display =\n",
              "          google.colab.kernel.accessAllowed ? 'block' : 'none';\n",
              "\n",
              "        async function convertToInteractive(key) {\n",
              "          const element = document.querySelector('#df-fc50a77c-58d4-4801-a042-a587964d767f');\n",
              "          const dataTable =\n",
              "            await google.colab.kernel.invokeFunction('convertToInteractive',\n",
              "                                                     [key], {});\n",
              "          if (!dataTable) return;\n",
              "\n",
              "          const docLinkHtml = 'Like what you see? Visit the ' +\n",
              "            '<a target=\"_blank\" href=https://colab.research.google.com/notebooks/data_table.ipynb>data table notebook</a>'\n",
              "            + ' to learn more about interactive tables.';\n",
              "          element.innerHTML = '';\n",
              "          dataTable['output_type'] = 'display_data';\n",
              "          await google.colab.output.renderOutput(dataTable, element);\n",
              "          const docLink = document.createElement('div');\n",
              "          docLink.innerHTML = docLinkHtml;\n",
              "          element.appendChild(docLink);\n",
              "        }\n",
              "      </script>\n",
              "    </div>\n",
              "  </div>\n",
              "  "
            ],
            "text/plain": [
              "   overall  verified   reviewTime      reviewerID        asin  \\\n",
              "0        4     False   05 1, 2015   A8WEXFRWX1ZHH  0209688726   \n",
              "1        1      True  04 19, 2018   ABCA1A8E4DGV1  0209688726   \n",
              "2        1      True  04 16, 2018  A1NX8HM89FRQ32  0209688726   \n",
              "3        3      True  04 13, 2018  A1X77G023NY0KY  0209688726   \n",
              "4        5      True   04 8, 2018  A3GK37JO2MGW6Q  0209688726   \n",
              "\n",
              "                  style reviewerName  \\\n",
              "0     {'Color:': ' AC'}   Goldengate   \n",
              "1   {'Color:': ' Blue'}          noe   \n",
              "2  {'Color:': ' Black'}       Eduard   \n",
              "3     {'Color:': ' CA'}       Lauren   \n",
              "4  {'Color:': ' Black'}        danny   \n",
              "\n",
              "                                          reviewText  \\\n",
              "0  After I wrote the below review, the manufactur...   \n",
              "1  It sucks barely picks up anything definitely n...   \n",
              "2  Well to write a short one, it blew 2 fuses of ...   \n",
              "3  I have absolutely no memory of buying this but...   \n",
              "4                               it ok it does it job   \n",
              "\n",
              "                                             summary  unixReviewTime vote  \\\n",
              "0  Works well if you place phone in horizontally ...      1430438400  NaN   \n",
              "1                                              sucks      1524096000  NaN   \n",
              "2                                          Defective      1523836800  NaN   \n",
              "3                         Looks cool! Probably works      1523577600  NaN   \n",
              "4                                         Five Stars      1523145600  NaN   \n",
              "\n",
              "  image  \n",
              "0   NaN  \n",
              "1   NaN  \n",
              "2   NaN  \n",
              "3   NaN  \n",
              "4   NaN  "
            ]
          },
          "execution_count": 31,
          "metadata": {},
          "output_type": "execute_result"
        }
      ],
      "source": [
        "df.head(5)"
      ]
    },
    {
      "cell_type": "markdown",
      "metadata": {
        "id": "hooSUzWZmRJM"
      },
      "source": [
        "3) Undersample the data by `overall` feature in order to obtain a class-balanced dataset.\n",
        "\n"
      ]
    },
    {
      "cell_type": "code",
      "execution_count": null,
      "metadata": {
        "colab": {
          "base_uri": "https://localhost:8080/",
          "height": 448
        },
        "id": "DO8S7GJLJawP",
        "outputId": "a27851f5-30cd-4a9f-dd7e-faca9b977f5f"
      },
      "outputs": [
        {
          "name": "stdout",
          "output_type": "stream",
          "text": [
            "The dataset now has 38630 rows and 12 columns.\n"
          ]
        },
        {
          "data": {
            "image/png": "[encoded data removed]",
            "text/plain": [
              "<Figure size 640x480 with 1 Axes>"
            ]
          },
          "metadata": {},
          "output_type": "display_data"
        }
      ],
      "source": [
        "# Visualization before undersampling, then using undersampling to balance target\n",
        "df.overall.hist()\n",
        "X, Y = RandomUnderSampler().fit_resample(df, df[\"overall\"])\n",
        "print(\"The dataset now has %i rows and %i columns.\" % X.shape)"
      ]
    },
    {
      "cell_type": "markdown",
      "metadata": {
        "id": "jbaY-6hxnY5L"
      },
      "source": [
        "4) Cast the `reviewText` column to unicode string\n",
        "\n"
      ]
    },
    {
      "cell_type": "code",
      "execution_count": null,
      "metadata": {
        "id": "-SC4Mvq0JrCK"
      },
      "outputs": [],
      "source": [
        "# Casting 'reviewText' to string\n",
        "X['reviewText'] = X['reviewText'].astype(str)"
      ]
    },
    {
      "cell_type": "markdown",
      "metadata": {
        "id": "_7uRHPMRS2oj"
      },
      "source": [
        "**5)** Select from data only the features named ```reviewText``` and ```overall``` putting them in a dataframe\n",
        "\n",
        "\n",
        "\n"
      ]
    },
    {
      "cell_type": "code",
      "execution_count": null,
      "metadata": {
        "colab": {
          "base_uri": "https://localhost:8080/"
        },
        "id": "Q30Q7VoRJzvL",
        "outputId": "8a0685e0-1d70-4cde-d533-2b403c525cf7"
      },
      "outputs": [
        {
          "name": "stdout",
          "output_type": "stream",
          "text": [
            "The dataset now has 38630 rows and 2 columns.\n"
          ]
        }
      ],
      "source": [
        "# Taking only the features 'reviewText' and 'overall' from original dataset\n",
        "X=X[['reviewText','overall']]\n",
        "print(\"The dataset now has %i rows and %i columns.\" % X.shape)"
      ]
    },
    {
      "cell_type": "markdown",
      "metadata": {
        "id": "jLk7gkZji6UB"
      },
      "source": [
        "**6)** Verify the distribution of the number of stars"
      ]
    },
    {
      "cell_type": "code",
      "execution_count": null,
      "metadata": {
        "colab": {
          "base_uri": "https://localhost:8080/",
          "height": 448
        },
        "id": "VVttSNkYJ600",
        "outputId": "9500e60d-f2ef-44b0-e896-ab63ec39e4b5"
      },
      "outputs": [
        {
          "data": {
            "text/plain": [
              "<matplotlib.legend.Legend at 0x7fba4651d000>"
            ]
          },
          "execution_count": 35,
          "metadata": {},
          "output_type": "execute_result"
        },
        {
          "data": {
            "image/png": "[encoded data removed]",
            "text/plain": [
              "<Figure size 640x480 with 1 Axes>"
            ]
          },
          "metadata": {},
          "output_type": "display_data"
        }
      ],
      "source": [
        "# Verification of distribution after undersampling\n",
        "X.overall.hist()\n",
        "plt.legend([\"y_distrib after undersampling.\"])"
      ]
    },
    {
      "cell_type": "markdown",
      "metadata": {
        "id": "h7TL47guxDsK"
      },
      "source": [
        "**7)** Remove from the dataframe the reviews rated with 3 stars."
      ]
    },
    {
      "cell_type": "code",
      "execution_count": null,
      "metadata": {
        "id": "c8f_NfY1KCtw"
      },
      "outputs": [],
      "source": [
        "#Removing reviews with 3 stars\n",
        "X = X[X['overall'] != 3]"
      ]
    },
    {
      "cell_type": "markdown",
      "metadata": {
        "id": "c5JNI0iWi6UH"
      },
      "source": [
        "**8)** Add a `label` column to the DataFrame whose value is `\"pos\"` for reviews with 4 or 5 stars and `\"neg\"` for reviews with 1 or 2 stars."
      ]
    },
    {
      "cell_type": "code",
      "execution_count": null,
      "metadata": {
        "colab": {
          "base_uri": "https://localhost:8080/",
          "height": 316
        },
        "id": "xdsYEEJxKOJf",
        "outputId": "d15ead31-9d32-4753-ca67-6d42b2cd7b73"
      },
      "outputs": [
        {
          "name": "stderr",
          "output_type": "stream",
          "text": [
            "<ipython-input-37-81b973820834>:1: SettingWithCopyWarning: \n",
            "A value is trying to be set on a copy of a slice from a DataFrame.\n",
            "Try using .loc[row_indexer,col_indexer] = value instead\n",
            "\n",
            "See the caveats in the documentation: https://pandas.pydata.org/pandas-docs/stable/user_guide/indexing.html#returning-a-view-versus-a-copy\n",
            "  X[\"label\"] = X.overall.map({1:\"neg\", 2:\"neg\", 4:\"pos\",5:\"pos\"})\n"
          ]
        },
        {
          "data": {
            "text/html": [
              "\n",
              "  <div id=\"df-7aaac5eb-a2bb-4fb6-8e42-8e0ec77a92d1\">\n",
              "    <div class=\"colab-df-container\">\n",
              "      <div>\n",
              "<style scoped>\n",
              "    .dataframe tbody tr th:only-of-type {\n",
              "        vertical-align: middle;\n",
              "    }\n",
              "\n",
              "    .dataframe tbody tr th {\n",
              "        vertical-align: top;\n",
              "    }\n",
              "\n",
              "    .dataframe thead th {\n",
              "        text-align: right;\n",
              "    }\n",
              "</style>\n",
              "<table border=\"1\" class=\"dataframe\">\n",
              "  <thead>\n",
              "    <tr style=\"text-align: right;\">\n",
              "      <th></th>\n",
              "      <th>reviewText</th>\n",
              "      <th>overall</th>\n",
              "      <th>label</th>\n",
              "    </tr>\n",
              "  </thead>\n",
              "  <tbody>\n",
              "    <tr>\n",
              "      <th>0</th>\n",
              "      <td>After 6-9 months of installation on the hitch,...</td>\n",
              "      <td>1</td>\n",
              "      <td>neg</td>\n",
              "    </tr>\n",
              "    <tr>\n",
              "      <th>1</th>\n",
              "      <td>What a waste of money. This level is way-off. ...</td>\n",
              "      <td>1</td>\n",
              "      <td>neg</td>\n",
              "    </tr>\n",
              "    <tr>\n",
              "      <th>2</th>\n",
              "      <td>Cover ripped on backside of tanks during first...</td>\n",
              "      <td>1</td>\n",
              "      <td>neg</td>\n",
              "    </tr>\n",
              "    <tr>\n",
              "      <th>3</th>\n",
              "      <td>I've got a couple and have used them and when ...</td>\n",
              "      <td>1</td>\n",
              "      <td>neg</td>\n",
              "    </tr>\n",
              "    <tr>\n",
              "      <th>4</th>\n",
              "      <td>Not a great fit for a 2006 Honda Pilot. Oil le...</td>\n",
              "      <td>1</td>\n",
              "      <td>neg</td>\n",
              "    </tr>\n",
              "  </tbody>\n",
              "</table>\n",
              "</div>\n",
              "      <button class=\"colab-df-convert\" onclick=\"convertToInteractive('df-7aaac5eb-a2bb-4fb6-8e42-8e0ec77a92d1')\"\n",
              "              title=\"Convert this dataframe to an interactive table.\"\n",
              "              style=\"display:none;\">\n",
              "        \n",
              "  <svg xmlns=\"http://www.w3.org/2000/svg\" height=\"24px\"viewBox=\"0 0 24 24\"\n",
              "       width=\"24px\">\n",
              "    <path d=\"M0 0h24v24H0V0z\" fill=\"none\"/>\n",
              "    <path d=\"M18.56 5.44l.94 2.06.94-2.06 2.06-.94-2.06-.94-.94-2.06-.94 2.06-2.06.94zm-11 1L8.5 8.5l.94-2.06 2.06-.94-2.06-.94L8.5 2.5l-.94 2.06-2.06.94zm10 10l.94 2.06.94-2.06 2.06-.94-2.06-.94-.94-2.06-.94 2.06-2.06.94z\"/><path d=\"M17.41 7.96l-1.37-1.37c-.4-.4-.92-.59-1.43-.59-.52 0-1.04.2-1.43.59L10.3 9.45l-7.72 7.72c-.78.78-.78 2.05 0 2.83L4 21.41c.39.39.9.59 1.41.59.51 0 1.02-.2 1.41-.59l7.78-7.78 2.81-2.81c.8-.78.8-2.07 0-2.86zM5.41 20L4 18.59l7.72-7.72 1.47 1.35L5.41 20z\"/>\n",
              "  </svg>\n",
              "      </button>\n",
              "      \n",
              "  <style>\n",
              "    .colab-df-container {\n",
              "      display:flex;\n",
              "      flex-wrap:wrap;\n",
              "      gap: 12px;\n",
              "    }\n",
              "\n",
              "    .colab-df-convert {\n",
              "      background-color: #E8F0FE;\n",
              "      border: none;\n",
              "      border-radius: 50%;\n",
              "      cursor: pointer;\n",
              "      display: none;\n",
              "      fill: #1967D2;\n",
              "      height: 32px;\n",
              "      padding: 0 0 0 0;\n",
              "      width: 32px;\n",
              "    }\n",
              "\n",
              "    .colab-df-convert:hover {\n",
              "      background-color: #E2EBFA;\n",
              "      box-shadow: 0px 1px 2px rgba(60, 64, 67, 0.3), 0px 1px 3px 1px rgba(60, 64, 67, 0.15);\n",
              "      fill: #174EA6;\n",
              "    }\n",
              "\n",
              "    [theme=dark] .colab-df-convert {\n",
              "      background-color: #3B4455;\n",
              "      fill: #D2E3FC;\n",
              "    }\n",
              "\n",
              "    [theme=dark] .colab-df-convert:hover {\n",
              "      background-color: #434B5C;\n",
              "      box-shadow: 0px 1px 3px 1px rgba(0, 0, 0, 0.15);\n",
              "      filter: drop-shadow(0px 1px 2px rgba(0, 0, 0, 0.3));\n",
              "      fill: #FFFFFF;\n",
              "    }\n",
              "  </style>\n",
              "\n",
              "      <script>\n",
              "        const buttonEl =\n",
              "          document.querySelector('#df-7aaac5eb-a2bb-4fb6-8e42-8e0ec77a92d1 button.colab-df-convert');\n",
              "        buttonEl.style.display =\n",
              "          google.colab.kernel.accessAllowed ? 'block' : 'none';\n",
              "\n",
              "        async function convertToInteractive(key) {\n",
              "          const element = document.querySelector('#df-7aaac5eb-a2bb-4fb6-8e42-8e0ec77a92d1');\n",
              "          const dataTable =\n",
              "            await google.colab.kernel.invokeFunction('convertToInteractive',\n",
              "                                                     [key], {});\n",
              "          if (!dataTable) return;\n",
              "\n",
              "          const docLinkHtml = 'Like what you see? Visit the ' +\n",
              "            '<a target=\"_blank\" href=https://colab.research.google.com/notebooks/data_table.ipynb>data table notebook</a>'\n",
              "            + ' to learn more about interactive tables.';\n",
              "          element.innerHTML = '';\n",
              "          dataTable['output_type'] = 'display_data';\n",
              "          await google.colab.output.renderOutput(dataTable, element);\n",
              "          const docLink = document.createElement('div');\n",
              "          docLink.innerHTML = docLinkHtml;\n",
              "          element.appendChild(docLink);\n",
              "        }\n",
              "      </script>\n",
              "    </div>\n",
              "  </div>\n",
              "  "
            ],
            "text/plain": [
              "                                          reviewText  overall label\n",
              "0  After 6-9 months of installation on the hitch,...        1   neg\n",
              "1  What a waste of money. This level is way-off. ...        1   neg\n",
              "2  Cover ripped on backside of tanks during first...        1   neg\n",
              "3  I've got a couple and have used them and when ...        1   neg\n",
              "4  Not a great fit for a 2006 Honda Pilot. Oil le...        1   neg"
            ]
          },
          "execution_count": 37,
          "metadata": {},
          "output_type": "execute_result"
        }
      ],
      "source": [
        "# Addition of label column\n",
        "X[\"label\"] = X.overall.map({1:\"neg\", 2:\"neg\", 4:\"pos\",5:\"pos\"})\n",
        "X.head()"
      ]
    },
    {
      "cell_type": "markdown",
      "metadata": {
        "id": "gk3O4Igei6UK"
      },
      "source": [
        "**9)** Split the dataset randomly into a training set with 65% of data and a test set with the remaining 35%, stratifying the split by the `label` variable"
      ]
    },
    {
      "cell_type": "code",
      "execution_count": null,
      "metadata": {
        "id": "Kq0FEaQIKcQ3"
      },
      "outputs": [],
      "source": [
        "#Split dataset into train and test set\n",
        "X_train, x_test, Y_train, y_test = train_test_split(X[\"reviewText\"],X[\"label\"], train_size=0.65, stratify=X[\"label\"], random_state=42)"
      ]
    },
    {
      "cell_type": "markdown",
      "metadata": {
        "id": "BLD_buBZi6U6"
      },
      "source": [
        "**10)** Create a tf.idf vector space model from training reviews excluding words appearing in less than 7 documents and using only unigrams. Then, extract the document-term matrix for them."
      ]
    },
    {
      "cell_type": "code",
      "execution_count": null,
      "metadata": {
        "id": "kWlyWQkxKouz"
      },
      "outputs": [],
      "source": [
        "#Creating tf.idf vector space without nan and extracting doc-term matrix\n",
        "X_train.fillna(\"\", inplace=True)\n",
        "x_test.fillna(\"\",inplace=True)\n",
        "vectorizer = TfidfVectorizer(min_df=7, ngram_range=(1,1)).fit(X_train)\n",
        "X_train = vectorizer.transform(X_train)\n",
        "x_test = vectorizer.transform(x_test)"
      ]
    },
    {
      "cell_type": "markdown",
      "metadata": {
        "id": "F7Xy6Oymi6VC"
      },
      "source": [
        "**11)** Train a Multinomial Naive Bayes classifier on the training reviews, using the representation created above"
      ]
    },
    {
      "cell_type": "code",
      "execution_count": null,
      "metadata": {
        "colab": {
          "base_uri": "https://localhost:8080/",
          "height": 75
        },
        "id": "VJLL2XI3K4ZX",
        "outputId": "4fa17684-cd65-43b5-df82-c21e1e772ae7"
      },
      "outputs": [
        {
          "data": {
            "text/html": [
              "<style>#sk-container-id-2 {color: black;background-color: white;}#sk-container-id-2 pre{padding: 0;}#sk-container-id-2 div.sk-toggleable {background-color: white;}#sk-container-id-2 label.sk-toggleable__label {cursor: pointer;display: block;width: 100%;margin-bottom: 0;padding: 0.3em;box-sizing: border-box;text-align: center;}#sk-container-id-2 label.sk-toggleable__label-arrow:before {content: \"▸\";float: left;margin-right: 0.25em;color: #696969;}#sk-container-id-2 label.sk-toggleable__label-arrow:hover:before {color: black;}#sk-container-id-2 div.sk-estimator:hover label.sk-toggleable__label-arrow:before {color: black;}#sk-container-id-2 div.sk-toggleable__content {max-height: 0;max-width: 0;overflow: hidden;text-align: left;background-color: #f0f8ff;}#sk-container-id-2 div.sk-toggleable__content pre {margin: 0.2em;color: black;border-radius: 0.25em;background-color: #f0f8ff;}#sk-container-id-2 input.sk-toggleable__control:checked~div.sk-toggleable__content {max-height: 200px;max-width: 100%;overflow: auto;}#sk-container-id-2 input.sk-toggleable__control:checked~label.sk-toggleable__label-arrow:before {content: \"▾\";}#sk-container-id-2 div.sk-estimator input.sk-toggleable__control:checked~label.sk-toggleable__label {background-color: #d4ebff;}#sk-container-id-2 div.sk-label input.sk-toggleable__control:checked~label.sk-toggleable__label {background-color: #d4ebff;}#sk-container-id-2 input.sk-hidden--visually {border: 0;clip: rect(1px 1px 1px 1px);clip: rect(1px, 1px, 1px, 1px);height: 1px;margin: -1px;overflow: hidden;padding: 0;position: absolute;width: 1px;}#sk-container-id-2 div.sk-estimator {font-family: monospace;background-color: #f0f8ff;border: 1px dotted black;border-radius: 0.25em;box-sizing: border-box;margin-bottom: 0.5em;}#sk-container-id-2 div.sk-estimator:hover {background-color: #d4ebff;}#sk-container-id-2 div.sk-parallel-item::after {content: \"\";width: 100%;border-bottom: 1px solid gray;flex-grow: 1;}#sk-container-id-2 div.sk-label:hover label.sk-toggleable__label {background-color: #d4ebff;}#sk-container-id-2 div.sk-serial::before {content: \"\";position: absolute;border-left: 1px solid gray;box-sizing: border-box;top: 0;bottom: 0;left: 50%;z-index: 0;}#sk-container-id-2 div.sk-serial {display: flex;flex-direction: column;align-items: center;background-color: white;padding-right: 0.2em;padding-left: 0.2em;position: relative;}#sk-container-id-2 div.sk-item {position: relative;z-index: 1;}#sk-container-id-2 div.sk-parallel {display: flex;align-items: stretch;justify-content: center;background-color: white;position: relative;}#sk-container-id-2 div.sk-item::before, #sk-container-id-2 div.sk-parallel-item::before {content: \"\";position: absolute;border-left: 1px solid gray;box-sizing: border-box;top: 0;bottom: 0;left: 50%;z-index: -1;}#sk-container-id-2 div.sk-parallel-item {display: flex;flex-direction: column;z-index: 1;position: relative;background-color: white;}#sk-container-id-2 div.sk-parallel-item:first-child::after {align-self: flex-end;width: 50%;}#sk-container-id-2 div.sk-parallel-item:last-child::after {align-self: flex-start;width: 50%;}#sk-container-id-2 div.sk-parallel-item:only-child::after {width: 0;}#sk-container-id-2 div.sk-dashed-wrapped {border: 1px dashed gray;margin: 0 0.4em 0.5em 0.4em;box-sizing: border-box;padding-bottom: 0.4em;background-color: white;}#sk-container-id-2 div.sk-label label {font-family: monospace;font-weight: bold;display: inline-block;line-height: 1.2em;}#sk-container-id-2 div.sk-label-container {text-align: center;}#sk-container-id-2 div.sk-container {/* jupyter's `normalize.less` sets `[hidden] { display: none; }` but bootstrap.min.css set `[hidden] { display: none !important; }` so we also need the `!important` here to be able to override the default hidden behavior on the sphinx rendered scikit-learn.org. See: https://github.com/scikit-learn/scikit-learn/issues/21755 */display: inline-block !important;position: relative;}#sk-container-id-2 div.sk-text-repr-fallback {display: none;}</style><div id=\"sk-container-id-2\" class=\"sk-top-container\"><div class=\"sk-text-repr-fallback\"><pre>MultinomialNB()</pre><b>In a Jupyter environment, please rerun this cell to show the HTML representation or trust the notebook. <br />On GitHub, the HTML representation is unable to render, please try loading this page with nbviewer.org.</b></div><div class=\"sk-container\" hidden><div class=\"sk-item\"><div class=\"sk-estimator sk-toggleable\"><input class=\"sk-toggleable__control sk-hidden--visually\" id=\"sk-estimator-id-2\" type=\"checkbox\" checked><label for=\"sk-estimator-id-2\" class=\"sk-toggleable__label sk-toggleable__label-arrow\">MultinomialNB</label><div class=\"sk-toggleable__content\"><pre>MultinomialNB()</pre></div></div></div></div></div>"
            ],
            "text/plain": [
              "MultinomialNB()"
            ]
          },
          "execution_count": 40,
          "metadata": {},
          "output_type": "execute_result"
        }
      ],
      "source": [
        "# Training the Multinomial Naive Bayes classifier with X_train and Y_train\n",
        "modelmnb = MultinomialNB()\n",
        "modelmnb.fit(X_train, Y_train)"
      ]
    },
    {
      "cell_type": "markdown",
      "metadata": {
        "id": "K1gSb6gDi6VM"
      },
      "source": [
        "**12)** Verify the accuracy of the classifier on the test set"
      ]
    },
    {
      "cell_type": "code",
      "execution_count": null,
      "metadata": {
        "colab": {
          "base_uri": "https://localhost:8080/"
        },
        "id": "06tI2X1RK91B",
        "outputId": "214d0368-1017-4899-b909-78f7c8edc80c"
      },
      "outputs": [
        {
          "name": "stdout",
          "output_type": "stream",
          "text": [
            "Accuracy: 0.84%\n"
          ]
        }
      ],
      "source": [
        "# Using score to return the mean accuracy\n",
        "accuracy = modelmnb.score(x_test, y_test)\n",
        "\n",
        "print(f'Accuracy: {accuracy:.2f}%')\n"
      ]
    },
    {
      "cell_type": "code",
      "execution_count": null,
      "metadata": {
        "colab": {
          "base_uri": "https://localhost:8080/"
        },
        "id": "NxBLiSrJUb8I",
        "outputId": "ddb663ff-7743-4d61-ec42-3777fd1e6dbf"
      },
      "outputs": [
        {
          "name": "stdout",
          "output_type": "stream",
          "text": [
            "Best param for alpha is {'alpha': 1.5} \n"
          ]
        }
      ],
      "source": [
        "# We decided to tune the alpha parameter available to multinomial naive bayes\n",
        "# We specify the alphas grid values to be tested in the hyperparameters optimization\n",
        "param_grid = {'alpha': [0.1, 0.5, 1.0, 1.5, 2.0]}\n",
        "\n",
        "# we use grid search to find the best alpha\n",
        "grid_search = GridSearchCV(modelmnb, param_grid, cv=5, scoring='accuracy').fit(X_train, Y_train)\n",
        "\n",
        "# print best param and keep best estimator\n",
        "print(\"Best param for alpha is %s \" % grid_search.best_params_)\n",
        "modelmnb = grid_search.best_estimator_\n",
        "\n",
        "y_pred_mnb = modelmnb.predict(x_test)"
      ]
    },
    {
      "cell_type": "markdown",
      "metadata": {
        "id": "mkzzstKZpMcr"
      },
      "source": [
        "13) Train a Deep Learning model using the document-term representation built in point 10."
      ]
    },
    {
      "cell_type": "code",
      "execution_count": null,
      "metadata": {
        "colab": {
          "base_uri": "https://localhost:8080/",
          "height": 395
        },
        "id": "CleROhbJLMPN",
        "outputId": "7e4e051c-4a45-402d-fa26-40a8f81d6ab5"
      },
      "outputs": [
        {
          "data": {
            "text/html": [
              "\n",
              "  <div id=\"df-2aa574e0-b307-4f0b-9664-e4cd25a2b1ce\">\n",
              "    <div class=\"colab-df-container\">\n",
              "      <div>\n",
              "<style scoped>\n",
              "    .dataframe tbody tr th:only-of-type {\n",
              "        vertical-align: middle;\n",
              "    }\n",
              "\n",
              "    .dataframe tbody tr th {\n",
              "        vertical-align: top;\n",
              "    }\n",
              "\n",
              "    .dataframe thead th {\n",
              "        text-align: right;\n",
              "    }\n",
              "</style>\n",
              "<table border=\"1\" class=\"dataframe\">\n",
              "  <thead>\n",
              "    <tr style=\"text-align: right;\">\n",
              "      <th></th>\n",
              "      <th>pos</th>\n",
              "      <th>neg</th>\n",
              "    </tr>\n",
              "  </thead>\n",
              "  <tbody>\n",
              "    <tr>\n",
              "      <th>10543</th>\n",
              "      <td>0</td>\n",
              "      <td>1</td>\n",
              "    </tr>\n",
              "    <tr>\n",
              "      <th>24065</th>\n",
              "      <td>1</td>\n",
              "      <td>0</td>\n",
              "    </tr>\n",
              "    <tr>\n",
              "      <th>30846</th>\n",
              "      <td>1</td>\n",
              "      <td>0</td>\n",
              "    </tr>\n",
              "    <tr>\n",
              "      <th>37625</th>\n",
              "      <td>1</td>\n",
              "      <td>0</td>\n",
              "    </tr>\n",
              "    <tr>\n",
              "      <th>6607</th>\n",
              "      <td>0</td>\n",
              "      <td>1</td>\n",
              "    </tr>\n",
              "  </tbody>\n",
              "</table>\n",
              "</div>\n",
              "      <button class=\"colab-df-convert\" onclick=\"convertToInteractive('df-2aa574e0-b307-4f0b-9664-e4cd25a2b1ce')\"\n",
              "              title=\"Convert this dataframe to an interactive table.\"\n",
              "              style=\"display:none;\">\n",
              "        \n",
              "  <svg xmlns=\"http://www.w3.org/2000/svg\" height=\"24px\"viewBox=\"0 0 24 24\"\n",
              "       width=\"24px\">\n",
              "    <path d=\"M0 0h24v24H0V0z\" fill=\"none\"/>\n",
              "    <path d=\"M18.56 5.44l.94 2.06.94-2.06 2.06-.94-2.06-.94-.94-2.06-.94 2.06-2.06.94zm-11 1L8.5 8.5l.94-2.06 2.06-.94-2.06-.94L8.5 2.5l-.94 2.06-2.06.94zm10 10l.94 2.06.94-2.06 2.06-.94-2.06-.94-.94-2.06-.94 2.06-2.06.94z\"/><path d=\"M17.41 7.96l-1.37-1.37c-.4-.4-.92-.59-1.43-.59-.52 0-1.04.2-1.43.59L10.3 9.45l-7.72 7.72c-.78.78-.78 2.05 0 2.83L4 21.41c.39.39.9.59 1.41.59.51 0 1.02-.2 1.41-.59l7.78-7.78 2.81-2.81c.8-.78.8-2.07 0-2.86zM5.41 20L4 18.59l7.72-7.72 1.47 1.35L5.41 20z\"/>\n",
              "  </svg>\n",
              "      </button>\n",
              "      \n",
              "  <style>\n",
              "    .colab-df-container {\n",
              "      display:flex;\n",
              "      flex-wrap:wrap;\n",
              "      gap: 12px;\n",
              "    }\n",
              "\n",
              "    .colab-df-convert {\n",
              "      background-color: #E8F0FE;\n",
              "      border: none;\n",
              "      border-radius: 50%;\n",
              "      cursor: pointer;\n",
              "      display: none;\n",
              "      fill: #1967D2;\n",
              "      height: 32px;\n",
              "      padding: 0 0 0 0;\n",
              "      width: 32px;\n",
              "    }\n",
              "\n",
              "    .colab-df-convert:hover {\n",
              "      background-color: #E2EBFA;\n",
              "      box-shadow: 0px 1px 2px rgba(60, 64, 67, 0.3), 0px 1px 3px 1px rgba(60, 64, 67, 0.15);\n",
              "      fill: #174EA6;\n",
              "    }\n",
              "\n",
              "    [theme=dark] .colab-df-convert {\n",
              "      background-color: #3B4455;\n",
              "      fill: #D2E3FC;\n",
              "    }\n",
              "\n",
              "    [theme=dark] .colab-df-convert:hover {\n",
              "      background-color: #434B5C;\n",
              "      box-shadow: 0px 1px 3px 1px rgba(0, 0, 0, 0.15);\n",
              "      filter: drop-shadow(0px 1px 2px rgba(0, 0, 0, 0.3));\n",
              "      fill: #FFFFFF;\n",
              "    }\n",
              "  </style>\n",
              "\n",
              "      <script>\n",
              "        const buttonEl =\n",
              "          document.querySelector('#df-2aa574e0-b307-4f0b-9664-e4cd25a2b1ce button.colab-df-convert');\n",
              "        buttonEl.style.display =\n",
              "          google.colab.kernel.accessAllowed ? 'block' : 'none';\n",
              "\n",
              "        async function convertToInteractive(key) {\n",
              "          const element = document.querySelector('#df-2aa574e0-b307-4f0b-9664-e4cd25a2b1ce');\n",
              "          const dataTable =\n",
              "            await google.colab.kernel.invokeFunction('convertToInteractive',\n",
              "                                                     [key], {});\n",
              "          if (!dataTable) return;\n",
              "\n",
              "          const docLinkHtml = 'Like what you see? Visit the ' +\n",
              "            '<a target=\"_blank\" href=https://colab.research.google.com/notebooks/data_table.ipynb>data table notebook</a>'\n",
              "            + ' to learn more about interactive tables.';\n",
              "          element.innerHTML = '';\n",
              "          dataTable['output_type'] = 'display_data';\n",
              "          await google.colab.output.renderOutput(dataTable, element);\n",
              "          const docLink = document.createElement('div');\n",
              "          docLink.innerHTML = docLinkHtml;\n",
              "          element.appendChild(docLink);\n",
              "        }\n",
              "      </script>\n",
              "    </div>\n",
              "  </div>\n",
              "  "
            ],
            "text/plain": [
              "       pos  neg\n",
              "10543    0    1\n",
              "24065    1    0\n",
              "30846    1    0\n",
              "37625    1    0\n",
              "6607     0    1"
            ]
          },
          "metadata": {},
          "output_type": "display_data"
        },
        {
          "data": {
            "text/html": [
              "\n",
              "  <div id=\"df-8e96fc21-f5cb-4916-ad8a-aab8e785666a\">\n",
              "    <div class=\"colab-df-container\">\n",
              "      <div>\n",
              "<style scoped>\n",
              "    .dataframe tbody tr th:only-of-type {\n",
              "        vertical-align: middle;\n",
              "    }\n",
              "\n",
              "    .dataframe tbody tr th {\n",
              "        vertical-align: top;\n",
              "    }\n",
              "\n",
              "    .dataframe thead th {\n",
              "        text-align: right;\n",
              "    }\n",
              "</style>\n",
              "<table border=\"1\" class=\"dataframe\">\n",
              "  <thead>\n",
              "    <tr style=\"text-align: right;\">\n",
              "      <th></th>\n",
              "      <th>pos</th>\n",
              "      <th>neg</th>\n",
              "    </tr>\n",
              "  </thead>\n",
              "  <tbody>\n",
              "    <tr>\n",
              "      <th>25956</th>\n",
              "      <td>1</td>\n",
              "      <td>0</td>\n",
              "    </tr>\n",
              "    <tr>\n",
              "      <th>4552</th>\n",
              "      <td>0</td>\n",
              "      <td>1</td>\n",
              "    </tr>\n",
              "    <tr>\n",
              "      <th>13100</th>\n",
              "      <td>0</td>\n",
              "      <td>1</td>\n",
              "    </tr>\n",
              "    <tr>\n",
              "      <th>2731</th>\n",
              "      <td>0</td>\n",
              "      <td>1</td>\n",
              "    </tr>\n",
              "    <tr>\n",
              "      <th>14067</th>\n",
              "      <td>0</td>\n",
              "      <td>1</td>\n",
              "    </tr>\n",
              "  </tbody>\n",
              "</table>\n",
              "</div>\n",
              "      <button class=\"colab-df-convert\" onclick=\"convertToInteractive('df-8e96fc21-f5cb-4916-ad8a-aab8e785666a')\"\n",
              "              title=\"Convert this dataframe to an interactive table.\"\n",
              "              style=\"display:none;\">\n",
              "        \n",
              "  <svg xmlns=\"http://www.w3.org/2000/svg\" height=\"24px\"viewBox=\"0 0 24 24\"\n",
              "       width=\"24px\">\n",
              "    <path d=\"M0 0h24v24H0V0z\" fill=\"none\"/>\n",
              "    <path d=\"M18.56 5.44l.94 2.06.94-2.06 2.06-.94-2.06-.94-.94-2.06-.94 2.06-2.06.94zm-11 1L8.5 8.5l.94-2.06 2.06-.94-2.06-.94L8.5 2.5l-.94 2.06-2.06.94zm10 10l.94 2.06.94-2.06 2.06-.94-2.06-.94-.94-2.06-.94 2.06-2.06.94z\"/><path d=\"M17.41 7.96l-1.37-1.37c-.4-.4-.92-.59-1.43-.59-.52 0-1.04.2-1.43.59L10.3 9.45l-7.72 7.72c-.78.78-.78 2.05 0 2.83L4 21.41c.39.39.9.59 1.41.59.51 0 1.02-.2 1.41-.59l7.78-7.78 2.81-2.81c.8-.78.8-2.07 0-2.86zM5.41 20L4 18.59l7.72-7.72 1.47 1.35L5.41 20z\"/>\n",
              "  </svg>\n",
              "      </button>\n",
              "      \n",
              "  <style>\n",
              "    .colab-df-container {\n",
              "      display:flex;\n",
              "      flex-wrap:wrap;\n",
              "      gap: 12px;\n",
              "    }\n",
              "\n",
              "    .colab-df-convert {\n",
              "      background-color: #E8F0FE;\n",
              "      border: none;\n",
              "      border-radius: 50%;\n",
              "      cursor: pointer;\n",
              "      display: none;\n",
              "      fill: #1967D2;\n",
              "      height: 32px;\n",
              "      padding: 0 0 0 0;\n",
              "      width: 32px;\n",
              "    }\n",
              "\n",
              "    .colab-df-convert:hover {\n",
              "      background-color: #E2EBFA;\n",
              "      box-shadow: 0px 1px 2px rgba(60, 64, 67, 0.3), 0px 1px 3px 1px rgba(60, 64, 67, 0.15);\n",
              "      fill: #174EA6;\n",
              "    }\n",
              "\n",
              "    [theme=dark] .colab-df-convert {\n",
              "      background-color: #3B4455;\n",
              "      fill: #D2E3FC;\n",
              "    }\n",
              "\n",
              "    [theme=dark] .colab-df-convert:hover {\n",
              "      background-color: #434B5C;\n",
              "      box-shadow: 0px 1px 3px 1px rgba(0, 0, 0, 0.15);\n",
              "      filter: drop-shadow(0px 1px 2px rgba(0, 0, 0, 0.3));\n",
              "      fill: #FFFFFF;\n",
              "    }\n",
              "  </style>\n",
              "\n",
              "      <script>\n",
              "        const buttonEl =\n",
              "          document.querySelector('#df-8e96fc21-f5cb-4916-ad8a-aab8e785666a button.colab-df-convert');\n",
              "        buttonEl.style.display =\n",
              "          google.colab.kernel.accessAllowed ? 'block' : 'none';\n",
              "\n",
              "        async function convertToInteractive(key) {\n",
              "          const element = document.querySelector('#df-8e96fc21-f5cb-4916-ad8a-aab8e785666a');\n",
              "          const dataTable =\n",
              "            await google.colab.kernel.invokeFunction('convertToInteractive',\n",
              "                                                     [key], {});\n",
              "          if (!dataTable) return;\n",
              "\n",
              "          const docLinkHtml = 'Like what you see? Visit the ' +\n",
              "            '<a target=\"_blank\" href=https://colab.research.google.com/notebooks/data_table.ipynb>data table notebook</a>'\n",
              "            + ' to learn more about interactive tables.';\n",
              "          element.innerHTML = '';\n",
              "          dataTable['output_type'] = 'display_data';\n",
              "          await google.colab.output.renderOutput(dataTable, element);\n",
              "          const docLink = document.createElement('div');\n",
              "          docLink.innerHTML = docLinkHtml;\n",
              "          element.appendChild(docLink);\n",
              "        }\n",
              "      </script>\n",
              "    </div>\n",
              "  </div>\n",
              "  "
            ],
            "text/plain": [
              "       pos  neg\n",
              "25956    1    0\n",
              "4552     0    1\n",
              "13100    0    1\n",
              "2731     0    1\n",
              "14067    0    1"
            ]
          },
          "metadata": {},
          "output_type": "display_data"
        }
      ],
      "source": [
        "# Changing the label format for the deep learning model\n",
        "Y_train = pd.DataFrame({\"pos\": Y_train == \"pos\", \"neg\": Y_train == \"neg\"}).astype(int)\n",
        "y_test = pd.DataFrame({\"pos\": y_test == \"pos\", \"neg\": y_test == \"neg\"}).astype(int)\n",
        "display(Y_train.head())\n",
        "display(y_test.head())"
      ]
    },
    {
      "cell_type": "code",
      "execution_count": null,
      "metadata": {
        "id": "KncH05ThLXMM"
      },
      "outputs": [],
      "source": [
        "# Defining functions for neural network creation\n",
        "\n",
        "input_size = X_train.shape[1]\n",
        "output_size = Y_train.shape[1]\n",
        "\n",
        "#This function will be used to return models with different configurations\n",
        "def model_factory(input_size:int, output_size:int, units:int=128, h_layers:int=1,\n",
        "               activation:str=\"relu\", dropout:float=.0):\n",
        "    # We define the network topology using the functional api\n",
        "    inputs = layers.Input(shape=(input_size,))\n",
        "    x = inputs\n",
        "    for i in range(h_layers):\n",
        "        #Define how many other hidden layers we want\n",
        "        x = layers.Dense(units, activation = activation)(x)\n",
        "        if dropout:\n",
        "            # Add dropout after each layer, if enabled\n",
        "            x = layers.Dropout(rate=dropout)(x)\n",
        "    outputs = layers.Dense(output_size, activation=\"softmax\")(x)\n",
        "    model = tf.keras.Model(inputs=inputs, outputs=outputs, name=\"three_net\")\n",
        "    return model\n",
        "\n",
        "#The model generator will be used as input for a hyperparameter generator (keras-tuner),\n",
        "#this will be used during the model tuning, and used to generate configurations of hyperparameters used for model instantation\n",
        "def model_generator(hp):\n",
        "  #The tuner will return a number of units for each layer, a number of hidden\n",
        "  #layers, and activation function and a dropout float\n",
        "    units = hp.Int(\"units\",min_value=32, max_value =512, step=32)\n",
        "    h_layers = hp.Int(\"h_layers\",min_value=1, max_value =12, step=2)\n",
        "    activation=hp.Choice(\"activation\", [\"relu\", \"tanh\", \"swish\"])\n",
        "    dropout = hp.Float(\"dropout\", min_value=0.01, max_value=0.25, step=0.01)\n",
        "    # The parameters are passed to the model factory and a compiled keras model will be returned\n",
        "    model = model_factory(input_size, output_size, units, h_layers, activation, dropout)\n",
        "    model.compile(optimizer=tf.keras.optimizers.Adam(), loss=tf.keras.losses.BinaryCrossentropy(),\n",
        "               metrics=[tf.keras.metrics.CategoricalAccuracy()])\n",
        "    return model\n",
        "\n",
        "#Utility function to convert a scipy sparse matrix to tensorflow sparse tensor\n",
        "def csr_matrix_to_sparse_tensor(X:csr_matrix):\n",
        "    indexes = np.column_stack(X.nonzero())\n",
        "    data = X.data\n",
        "    shape = X.shape\n",
        "    return tf.sparse.reorder(tf.SparseTensor(indexes,data, shape))"
      ]
    },
    {
      "cell_type": "code",
      "execution_count": null,
      "metadata": {
        "colab": {
          "base_uri": "https://localhost:8080/",
          "height": 908
        },
        "id": "2q3H_4W7LcWU",
        "outputId": "50bb3aef-f699-4032-9981-4a93825bee17"
      },
      "outputs": [
        {
          "name": "stdout",
          "output_type": "stream",
          "text": [
            "Model: \"three_net\"\n",
            "_________________________________________________________________\n",
            " Layer (type)                Output Shape              Param #   \n",
            "=================================================================\n",
            " input_2 (InputLayer)        [(None, 5440)]            0         \n",
            "                                                                 \n",
            " dense_4 (Dense)             (None, 128)               696448    \n",
            "                                                                 \n",
            " dense_5 (Dense)             (None, 2)                 258       \n",
            "                                                                 \n",
            "=================================================================\n",
            "Total params: 696,706\n",
            "Trainable params: 696,706\n",
            "Non-trainable params: 0\n",
            "_________________________________________________________________\n",
            "Epoch 1/5\n",
            "67/67 [==============================] - 4s 33ms/step - loss: 0.6056 - categorical_accuracy: 0.7582\n",
            "Epoch 2/5\n",
            "67/67 [==============================] - 2s 35ms/step - loss: 0.3921 - categorical_accuracy: 0.8637\n",
            "Epoch 3/5\n",
            "67/67 [==============================] - 3s 39ms/step - loss: 0.2952 - categorical_accuracy: 0.8903\n",
            "Epoch 4/5\n",
            "67/67 [==============================] - 2s 36ms/step - loss: 0.2540 - categorical_accuracy: 0.9035\n",
            "Epoch 5/5\n",
            "67/67 [==============================] - 2s 33ms/step - loss: 0.2307 - categorical_accuracy: 0.9118\n"
          ]
        },
        {
          "data": {
            "image/png": "[encoded data removed]",
            "text/plain": [
              "<Figure size 640x480 with 1 Axes>"
            ]
          },
          "metadata": {},
          "output_type": "display_data"
        }
      ],
      "source": [
        "#Creates a base model with a single hidden layer with 128 units\n",
        "model = model_factory(input_size, output_size)\n",
        "model.summary()\n",
        "\n",
        "model.compile(optimizer=tf.keras.optimizers.Adam(), loss=tf.keras.losses.BinaryCrossentropy(),\n",
        "               metrics=[tf.keras.metrics.CategoricalAccuracy()])\n",
        "\n",
        "fit_hist = model.fit(x=csr_matrix_to_sparse_tensor(X_train),y= np.asarray(Y_train), batch_size=300, epochs=5)\n",
        "\n",
        "plt.plot(fit_hist.history[\"loss\"])\n",
        "plt.plot(fit_hist.history[\"categorical_accuracy\"])\n",
        "plt.legend([\"Cat. Crossentropy loss\", \"Accuracy\"])\n",
        "plt.xlabel(\"Epoch\")\n",
        "plt.show()"
      ]
    },
    {
      "cell_type": "markdown",
      "metadata": {
        "id": "DiEkWRCnabhk"
      },
      "source": [
        "14) Evaluate the model calculating the accuracy on test data. Try to maximize the model accuracy by tuning the neural network."
      ]
    },
    {
      "cell_type": "code",
      "execution_count": null,
      "metadata": {
        "colab": {
          "base_uri": "https://localhost:8080/"
        },
        "id": "s4kAEHQSLdIF",
        "outputId": "18c0f9ce-a194-42c9-deb4-75c2de2f6c9c"
      },
      "outputs": [
        {
          "name": "stdout",
          "output_type": "stream",
          "text": [
            "339/339 - 3s - loss: 0.3126 - categorical_accuracy: 0.8624 - 3s/epoch - 8ms/step\n",
            "The accuracy on the test set of the base model is: 0.862439\n"
          ]
        }
      ],
      "source": [
        "# Evaluation of accuracy on test data\n",
        "test_scores = model.evaluate(csr_matrix_to_sparse_tensor(x_test), np.asarray(y_test), verbose=2)\n",
        "print(\"The accuracy on the test set of the base model is: %f\" % test_scores[1])"
      ]
    },
    {
      "cell_type": "code",
      "execution_count": null,
      "metadata": {
        "colab": {
          "base_uri": "https://localhost:8080/"
        },
        "id": "goGsXcZLLp0D",
        "outputId": "ff0e4603-ebf3-4848-c81c-0fb5fe708bf2"
      },
      "outputs": [
        {
          "name": "stdout",
          "output_type": "stream",
          "text": [
            "Trial 10 Complete [00h 00m 31s]\n",
            "val_categorical_accuracy: 0.8606271743774414\n",
            "\n",
            "Best val_categorical_accuracy So Far: 0.8606271743774414\n",
            "Total elapsed time: 00h 04m 48s\n",
            "Model: \"three_net\"\n",
            "_________________________________________________________________\n",
            " Layer (type)                Output Shape              Param #   \n",
            "=================================================================\n",
            " input_1 (InputLayer)        [(None, 5440)]            0         \n",
            "                                                                 \n",
            " dense (Dense)               (None, 448)               2437568   \n",
            "                                                                 \n",
            " dropout (Dropout)           (None, 448)               0         \n",
            "                                                                 \n",
            " dense_1 (Dense)             (None, 2)                 898       \n",
            "                                                                 \n",
            "=================================================================\n",
            "Total params: 2,438,466\n",
            "Trainable params: 2,438,466\n",
            "Non-trainable params: 0\n",
            "_________________________________________________________________\n"
          ]
        }
      ],
      "source": [
        "# For the tuning we create a validation set, to do it we create a dataset to use the take and skip functions to split the dataset.\n",
        "dataset = tf.data.Dataset.from_tensor_slices((csr_matrix_to_sparse_tensor(X_train), np.asarray(Y_train)))\n",
        "VAL_SIZE = 0.2\n",
        "n_rows = dataset.cardinality().numpy()\n",
        "\n",
        "train_set = dataset.take(int(n_rows*(1-VAL_SIZE)))\n",
        "train_set = train_set.batch(300)\n",
        "val_set = dataset.skip(int(n_rows*(1-VAL_SIZE)))\n",
        "val_set = val_set.batch(300)\n",
        "\n",
        "# We  invoke the model tuner to try various configurations for the neural network architecture\n",
        "tuner = keras_tuner.RandomSearch(hypermodel=model_generator, objective=\"val_categorical_accuracy\", max_trials=10,\n",
        "                                 overwrite= True, seed=42)\n",
        "# We use early stopping in the search to avoid overfitting.\n",
        "tuner.search(train_set, epochs=30, validation_data=val_set,\n",
        "             callbacks = [tf.keras.callbacks.EarlyStopping(monitor=\"val_categorical_accuracy\",\n",
        "                                                            patience=3, restore_best_weights = True)])\n",
        "\n",
        "# Finally we evaluate over the testing set the best model found\n",
        "model = tuner.get_best_models(1)[0]\n",
        "model.summary()"
      ]
    },
    {
      "cell_type": "code",
      "execution_count": null,
      "metadata": {
        "colab": {
          "base_uri": "https://localhost:8080/"
        },
        "id": "vVYy4F21Lr4H",
        "outputId": "c588919e-5b6e-4788-a59c-d69ba02e9031"
      },
      "outputs": [
        {
          "name": "stdout",
          "output_type": "stream",
          "text": [
            "339/339 - 1s - loss: 0.3169 - categorical_accuracy: 0.8637 - 1s/epoch - 4ms/step\n",
            "The accuracy on the test set of the tuned model is: 0.863733\n"
          ]
        }
      ],
      "source": [
        "# Evaluation after tuning to maximize accuracy\n",
        "test_scores = model.evaluate(csr_matrix_to_sparse_tensor(x_test), np.asarray(y_test), verbose=2)\n",
        "print(\"The accuracy on the test set of the tuned model is: %f\" % test_scores[1])"
      ]
    },
    {
      "cell_type": "markdown",
      "metadata": {
        "id": "JHn-cla6NrQM"
      },
      "source": [
        "15) Get the predictions of this latter model and the Multinomial Naive Bayes model (trained in point 11) ones.\n",
        "\n",
        "Then compare them using the McNemar test and setting a confidence level = 95%, i.e. p-value must be > 0.05 for models to be significantly similar.\n",
        "\n",
        "To obtain the p-value, use the provided `mcnemar_pval` function providing the arrays with the labels predicted by the two models and the true ones.\n",
        "\n",
        "```\n",
        "mcnemar_pval(model1_predictions, model2_predictions, y_test)\n",
        "```\n",
        "Note: McNemar test cannot be applied to compare two models on different test set data.\n",
        "\n",
        "Hint: you will need to adapt the type of the two model predictions to integer arrays in order to be compared.\n"
      ]
    },
    {
      "cell_type": "code",
      "execution_count": null,
      "metadata": {
        "id": "deSWd-yM07Hs"
      },
      "outputs": [],
      "source": [
        "def mcnemar_pval(p1, p2, y_test):\n",
        "    model1_errors = p1 != y_test\n",
        "    model2_errors = p2 != y_test\n",
        "\n",
        "    # define contingency table\n",
        "    mc_table = pd.crosstab(model1_errors, model2_errors)\n",
        "\n",
        "    print(mc_table)\n",
        "\n",
        "    # calculate mcnemar test\n",
        "    mc_result = mcnemar(mc_table)\n",
        "    return mc_result.pvalue"
      ]
    },
    {
      "cell_type": "code",
      "execution_count": null,
      "metadata": {
        "colab": {
          "base_uri": "https://localhost:8080/"
        },
        "id": "VSsKe2AXLv7t",
        "outputId": "748c69ac-07c3-4afe-8497-71e5b874f58d"
      },
      "outputs": [
        {
          "name": "stdout",
          "output_type": "stream",
          "text": [
            "339/339 [==============================] - 1s 3ms/step\n",
            "col_0  False  True \n",
            "row_0              \n",
            "False   8736    420\n",
            "True     607   1054\n",
            "The difference in the errors is statistically significant (reject H0) - The two models are not equivalent\n",
            "5.899450506366029e-09\n"
          ]
        }
      ],
      "source": [
        "#The classifiers make classifications using slightly different labels, we need to change few things\n",
        "y_test_f = y_test.iloc[:,0].reset_index(drop=True) # The first column is for positive reviews and has a 1 when the review is positive\n",
        "y_pred_mnb_f = pd.Series(y_pred_mnb).map({'neg': 0, 'pos': 1})# We need to translate the positive reviews in 1 and negatives in 0\n",
        "# This retrieves the max probability predicted for each class. Since the neuron 0 is for positive reviews and neuron 1 is for negative reviews,\n",
        "# the np.argmax will give us 0 for positive reviews (i.e. the max probability is in neuron 0) and 1 for negetive reviews.\n",
        "# This encoding is inverted with respect of the others, so we need to map 0 as 1 and 1 as 0\n",
        "y_pred_dnn_f = pd.Series(np.argmax(model.predict(csr_matrix_to_sparse_tensor(x_test)), axis=1)).map({0:1, 1:0})\n",
        "\n",
        "pval = mcnemar_pval(y_pred_mnb_f, y_pred_dnn_f, y_test_f)\n",
        "\n",
        "confidence_level = 0.95\n",
        "alpha = 1-confidence_level\n",
        "\n",
        "print(pval)\n",
        "if pval > alpha:\n",
        "    print(\"The difference in the errors is not statistically significant (accept H0) - The two models are equivalent\")\n",
        "else:\n",
        "    print(\"The difference in the errors is statistically significant (reject H0) - The two models are not equivalent\")"
      ]
    }
  ],
  "metadata": {
    "colab": {
      "provenance": []
    },
    "kernelspec": {
      "display_name": "Python 3",
      "language": "python",
      "name": "python3"
    },
    "language_info": {
      "codemirror_mode": {
        "name": "ipython",
        "version": 3
      },
      "file_extension": ".py",
      "mimetype": "text/x-python",
      "name": "python",
      "nbconvert_exporter": "python",
      "pygments_lexer": "ipython3",
      "version": "3.5.2"
    }
  },
  "nbformat": 4,
  "nbformat_minor": 0
}
